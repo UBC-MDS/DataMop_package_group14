{
 "cells": [
  {
   "cell_type": "markdown",
   "metadata": {},
   "source": [
    "# DataMop Tutorial\n",
    "\n",
    "Welcome to the tutorial for `datamop`, the ultimate Python package for cleaning and preparing your datasets with minimal effort. Data cleaning can often feel like the most tedious part of any data analysis or machine learning project. Missing values, inconsistent scales, and different data types can slow you down and distract from the real task: extracting insights from your data.\n",
    "\n",
    "That is where `datamop` package comes in! This powerful, easy-to-use package automates many of the common data cleaning tasks, like imputing missing values, encoding categorical features and scaling numerical features, saving you time and effort while ensuring your data is consistent, complete, and ready for analysis.\n",
    "\n",
    "Here we will show example usages for each function in the package, including `sweep_nulls`, `column_encoder`, and `column_scaler`. Your messy data will be ready to use after using this robust package. With `datamop`, you can focus more on analysis and less on tedious preprocessing. "
   ]
  },
  {
   "cell_type": "markdown",
   "metadata": {},
   "source": [
    "## Importing and Version Checking\n",
    "\n",
    "\n",
    "Before we get started, let's install and import the `datamop` package. We will demonstrate each functions in the `datamop` package with examples using the Airbnb Open Data from kaggle."
   ]
  },
  {
   "cell_type": "code",
   "execution_count": 60,
   "metadata": {},
   "outputs": [],
   "source": [
    "# import modules\n",
    "import pandas as pd\n",
    "import numpy as np\n",
    "from datamop.sweep_nulls import sweep_nulls\n",
    "from datamop.column_encoder import column_encoder\n",
    "from datamop.column_scaler import column_scaler\n",
    "\n",
    "# import Airbnb Open Data\n",
    "data = pd.read_csv(\"../src/data/Airbnb_Open_Data.csv\")"
   ]
  },
  {
   "cell_type": "markdown",
   "metadata": {},
   "source": [
    "## Handling missing values with `sweep_nulls()`\n",
    "\n",
    "One of the most common challenges in data cleaning process is dealing with missing values. `datamop` provides a convenient method called `sweep_nulls()` to help you handle these issues effortlessly. The `sweep_nulls()` function scans your dataset for missing values and allows you to handle them using various strategies, including 'mean'(numeric only), 'median'(numeric only), 'mode', 'constant', and 'drop'.\n",
    "\n",
    "Let's start by checking the missing values in the dataset:"
   ]
  },
  {
   "cell_type": "code",
   "execution_count": null,
   "metadata": {},
   "outputs": [],
   "source": [
    "data.info()"
   ]
  },
  {
   "cell_type": "code",
   "execution_count": null,
   "metadata": {},
   "outputs": [],
   "source": [
    "data.head()"
   ]
  },
  {
   "cell_type": "code",
   "execution_count": null,
   "metadata": {},
   "outputs": [],
   "source": [
    "data.isnull().sum()"
   ]
  },
  {
   "cell_type": "markdown",
   "metadata": {},
   "source": [
    "### Imputing all columns\n",
    "\n",
    "When dealing with datasets containing missing values across multiple columns, `sweep_nulls()`makes it easy to impute all columns simultaneously. This feature ensures consistent handling of missing data throughout the dataset, whether you’re using the mean, median, mode, or a custom value for imputation.\n",
    "\n",
    "Since 'mean' and 'median' are designed for numerical features only, it is better to use 'mode', 'constant' or 'drop' when you have mixed data types in the dataset. "
   ]
  },
  {
   "cell_type": "code",
   "execution_count": null,
   "metadata": {},
   "outputs": [],
   "source": [
    "# using mode to impute missing value with the most common values in the column\n",
    "sweep_nulls(data, strategy='mode')"
   ]
  },
  {
   "cell_type": "code",
   "execution_count": null,
   "metadata": {},
   "outputs": [],
   "source": [
    "# using constant to impute missing value with a number\n",
    "sweep_nulls(data, strategy='constant', fill_value=-999)"
   ]
  },
  {
   "cell_type": "markdown",
   "metadata": {},
   "source": [
    "### Imputing specific numerical columns\n",
    "\n",
    "If you want to focus on imputing missing values in specific numerical columns of your dataset without affecting other columns, you can achieve this by using `sweep_nulls()` to select the desired columns and apply an imputation strategy only to them."
   ]
  },
  {
   "cell_type": "code",
   "execution_count": null,
   "metadata": {},
   "outputs": [],
   "source": [
    "# using mean to impute price and service fee columns\n",
    "sweep_nulls(data, strategy='mean', columns=['price', 'service fee'])"
   ]
  },
  {
   "cell_type": "code",
   "execution_count": null,
   "metadata": {},
   "outputs": [],
   "source": [
    "# using constant to impute price and service fee columns with a negative number\n",
    "sweep_nulls(data, strategy='constant', columns=['price', 'service fee'], fill_value=-999)"
   ]
  },
  {
   "cell_type": "markdown",
   "metadata": {},
   "source": [
    "### Imputing specific categorical columns\n",
    "\n",
    "When working with datasets containing missing values in categorical columns, you can impute missing values in specific categorical columns using common strategies like filling with the mode, or a custom value."
   ]
  },
  {
   "cell_type": "code",
   "execution_count": null,
   "metadata": {},
   "outputs": [],
   "source": [
    "# using constant to impute missing value with a string\n",
    "sweep_nulls(data, strategy='constant', columns=['host_identity_verified'], fill_values='missing')"
   ]
  },
  {
   "cell_type": "code",
   "execution_count": null,
   "metadata": {},
   "outputs": [],
   "source": [
    "# using mode to impute missing value with the most common values in the column\n",
    "sweep_nulls(data, strategy='mode', columns=['country'])"
   ]
  },
  {
   "cell_type": "markdown",
   "metadata": {},
   "source": [
    "### Dropping columns\n",
    "\n",
    "When working with datasets, some columns may have excessive missing values, which makes them unhelpful for analysis. Imputing them can introduce noise, therefore `sweep_nulls()` allows you to drop columns with missing values."
   ]
  },
  {
   "cell_type": "code",
   "execution_count": null,
   "metadata": {},
   "outputs": [],
   "source": [
    "# dropping one column\n",
    "sweep_nulls(data, strategy='drop', columns=['instant_bookable'])"
   ]
  },
  {
   "cell_type": "code",
   "execution_count": null,
   "metadata": {},
   "outputs": [],
   "source": [
    "# dropping multiple columns\n",
    "sweep_nulls(data, strategy='drop', columns=['instant_bookable', 'host_identity_verified'])"
   ]
  },
  {
   "cell_type": "markdown",
   "metadata": {},
   "source": [
    "## Scaling Numerical Features with `column_scaler()`\n",
    "\n",
    "When working with numerical data, inconsistent scales can distort analysis or machine learning results. \n",
    "For example, a column measuring `price` in thousands might dominate another column measuring `rating` on a 1-5 scale. \n",
    "To avoid this issue, scaling the numerical data to a consistent range or distribution can mitigate this problem.\n",
    "\n",
    "The `column_scaler()` function in the `datamop` package allows users to scale any numeric column in a dataset. It supports two methods:\n",
    "- **Min-Max Scaling**: Scale values to a specific range, such as `[0, 1]` or `[10, 20]`.\n",
    "- **Standard Scaling**: Transform values to have a mean of `0` and a standard deviation of `1`.\n",
    "\n",
    "The `column_scaler()` function allows flexible usage for both in-place scaling (replacing the original column) and creating a new scaled column.\n",
    "\n",
    "Let’s walk through how to use `column_scaler()`.\n"
   ]
  },
  {
   "cell_type": "markdown",
   "metadata": {},
   "source": [
    "### Preparing the Data for Scaling"
   ]
  },
  {
   "cell_type": "code",
   "execution_count": 72,
   "metadata": {},
   "outputs": [
    {
     "data": {
      "text/html": [
       "<div>\n",
       "<style scoped>\n",
       "    .dataframe tbody tr th:only-of-type {\n",
       "        vertical-align: middle;\n",
       "    }\n",
       "\n",
       "    .dataframe tbody tr th {\n",
       "        vertical-align: top;\n",
       "    }\n",
       "\n",
       "    .dataframe thead th {\n",
       "        text-align: right;\n",
       "    }\n",
       "</style>\n",
       "<table border=\"1\" class=\"dataframe\">\n",
       "  <thead>\n",
       "    <tr style=\"text-align: right;\">\n",
       "      <th></th>\n",
       "      <th>id</th>\n",
       "      <th>host_identity_verified</th>\n",
       "      <th>neighbourhood group</th>\n",
       "      <th>neighbourhood</th>\n",
       "      <th>lat</th>\n",
       "      <th>long</th>\n",
       "      <th>country</th>\n",
       "      <th>instant_bookable</th>\n",
       "      <th>cancellation_policy</th>\n",
       "      <th>room type</th>\n",
       "      <th>...</th>\n",
       "      <th>price</th>\n",
       "      <th>service fee</th>\n",
       "      <th>minimum nights</th>\n",
       "      <th>number of reviews</th>\n",
       "      <th>last review</th>\n",
       "      <th>reviews per month</th>\n",
       "      <th>review rate number</th>\n",
       "      <th>calculated host listings count</th>\n",
       "      <th>availability 365</th>\n",
       "      <th>price_scaled</th>\n",
       "    </tr>\n",
       "  </thead>\n",
       "  <tbody>\n",
       "    <tr>\n",
       "      <th>0</th>\n",
       "      <td>1001254</td>\n",
       "      <td>unconfirmed</td>\n",
       "      <td>Brooklyn</td>\n",
       "      <td>Kensington</td>\n",
       "      <td>40.64749</td>\n",
       "      <td>-73.97237</td>\n",
       "      <td>United States</td>\n",
       "      <td>False</td>\n",
       "      <td>strict</td>\n",
       "      <td>Private room</td>\n",
       "      <td>...</td>\n",
       "      <td>966.0</td>\n",
       "      <td>1.024837</td>\n",
       "      <td>10.0</td>\n",
       "      <td>9.0</td>\n",
       "      <td>10/19/2021</td>\n",
       "      <td>0.002222</td>\n",
       "      <td>4.0</td>\n",
       "      <td>6.0</td>\n",
       "      <td>286.0</td>\n",
       "      <td>418.608696</td>\n",
       "    </tr>\n",
       "    <tr>\n",
       "      <th>1</th>\n",
       "      <td>1002102</td>\n",
       "      <td>verified</td>\n",
       "      <td>Manhattan</td>\n",
       "      <td>Midtown</td>\n",
       "      <td>40.75362</td>\n",
       "      <td>-73.98377</td>\n",
       "      <td>United States</td>\n",
       "      <td>False</td>\n",
       "      <td>moderate</td>\n",
       "      <td>Entire home/apt</td>\n",
       "      <td>...</td>\n",
       "      <td>142.0</td>\n",
       "      <td>-1.462885</td>\n",
       "      <td>30.0</td>\n",
       "      <td>45.0</td>\n",
       "      <td>5/21/2022</td>\n",
       "      <td>0.004112</td>\n",
       "      <td>4.0</td>\n",
       "      <td>2.0</td>\n",
       "      <td>228.0</td>\n",
       "      <td>132.000000</td>\n",
       "    </tr>\n",
       "    <tr>\n",
       "      <th>2</th>\n",
       "      <td>1002403</td>\n",
       "      <td>NaN</td>\n",
       "      <td>Manhattan</td>\n",
       "      <td>Harlem</td>\n",
       "      <td>40.80902</td>\n",
       "      <td>-73.94190</td>\n",
       "      <td>United States</td>\n",
       "      <td>True</td>\n",
       "      <td>flexible</td>\n",
       "      <td>Private room</td>\n",
       "      <td>...</td>\n",
       "      <td>620.0</td>\n",
       "      <td>-0.015483</td>\n",
       "      <td>3.0</td>\n",
       "      <td>0.0</td>\n",
       "      <td>NaN</td>\n",
       "      <td>NaN</td>\n",
       "      <td>5.0</td>\n",
       "      <td>1.0</td>\n",
       "      <td>352.0</td>\n",
       "      <td>298.260870</td>\n",
       "    </tr>\n",
       "    <tr>\n",
       "      <th>3</th>\n",
       "      <td>1002755</td>\n",
       "      <td>unconfirmed</td>\n",
       "      <td>Brooklyn</td>\n",
       "      <td>Clinton Hill</td>\n",
       "      <td>40.68514</td>\n",
       "      <td>-73.95976</td>\n",
       "      <td>United States</td>\n",
       "      <td>True</td>\n",
       "      <td>moderate</td>\n",
       "      <td>Entire home/apt</td>\n",
       "      <td>...</td>\n",
       "      <td>368.0</td>\n",
       "      <td>-0.769338</td>\n",
       "      <td>30.0</td>\n",
       "      <td>270.0</td>\n",
       "      <td>7/5/2019</td>\n",
       "      <td>0.051450</td>\n",
       "      <td>4.0</td>\n",
       "      <td>1.0</td>\n",
       "      <td>322.0</td>\n",
       "      <td>210.608696</td>\n",
       "    </tr>\n",
       "    <tr>\n",
       "      <th>4</th>\n",
       "      <td>1003689</td>\n",
       "      <td>verified</td>\n",
       "      <td>Manhattan</td>\n",
       "      <td>East Harlem</td>\n",
       "      <td>40.79851</td>\n",
       "      <td>-73.94399</td>\n",
       "      <td>United States</td>\n",
       "      <td>False</td>\n",
       "      <td>moderate</td>\n",
       "      <td>Entire home/apt</td>\n",
       "      <td>...</td>\n",
       "      <td>204.0</td>\n",
       "      <td>-1.266883</td>\n",
       "      <td>10.0</td>\n",
       "      <td>9.0</td>\n",
       "      <td>11/19/2018</td>\n",
       "      <td>0.001000</td>\n",
       "      <td>3.0</td>\n",
       "      <td>1.0</td>\n",
       "      <td>289.0</td>\n",
       "      <td>153.565217</td>\n",
       "    </tr>\n",
       "  </tbody>\n",
       "</table>\n",
       "<p>5 rows × 21 columns</p>\n",
       "</div>"
      ],
      "text/plain": [
       "        id host_identity_verified neighbourhood group neighbourhood       lat  \\\n",
       "0  1001254            unconfirmed            Brooklyn    Kensington  40.64749   \n",
       "1  1002102               verified           Manhattan       Midtown  40.75362   \n",
       "2  1002403                    NaN           Manhattan        Harlem  40.80902   \n",
       "3  1002755            unconfirmed            Brooklyn  Clinton Hill  40.68514   \n",
       "4  1003689               verified           Manhattan   East Harlem  40.79851   \n",
       "\n",
       "       long        country instant_bookable cancellation_policy  \\\n",
       "0 -73.97237  United States            False              strict   \n",
       "1 -73.98377  United States            False            moderate   \n",
       "2 -73.94190  United States             True            flexible   \n",
       "3 -73.95976  United States             True            moderate   \n",
       "4 -73.94399  United States            False            moderate   \n",
       "\n",
       "         room type  ...  price  service fee  minimum nights  \\\n",
       "0     Private room  ...  966.0     1.024837            10.0   \n",
       "1  Entire home/apt  ...  142.0    -1.462885            30.0   \n",
       "2     Private room  ...  620.0    -0.015483             3.0   \n",
       "3  Entire home/apt  ...  368.0    -0.769338            30.0   \n",
       "4  Entire home/apt  ...  204.0    -1.266883            10.0   \n",
       "\n",
       "   number of reviews  last review reviews per month  review rate number  \\\n",
       "0                9.0   10/19/2021          0.002222                 4.0   \n",
       "1               45.0    5/21/2022          0.004112                 4.0   \n",
       "2                0.0          NaN               NaN                 5.0   \n",
       "3              270.0     7/5/2019          0.051450                 4.0   \n",
       "4                9.0   11/19/2018          0.001000                 3.0   \n",
       "\n",
       "   calculated host listings count  availability 365  price_scaled  \n",
       "0                             6.0             286.0    418.608696  \n",
       "1                             2.0             228.0    132.000000  \n",
       "2                             1.0             352.0    298.260870  \n",
       "3                             1.0             322.0    210.608696  \n",
       "4                             1.0             289.0    153.565217  \n",
       "\n",
       "[5 rows x 21 columns]"
      ]
     },
     "execution_count": 72,
     "metadata": {},
     "output_type": "execute_result"
    }
   ],
   "source": [
    "data.head()"
   ]
  },
  {
   "cell_type": "markdown",
   "metadata": {},
   "source": [
    "#### Pre-check column types\n",
    "Before scaling, ensure that numerical columns are in the correct format. \n",
    "In the Airbnb dataset, the `price` and `service fee` columns are objects because they contain a `$` sign. \n",
    "We need to remove the `$` sign and convert these columns to floats. \n",
    "Additionally, we’ll demonstrate scaling on the `reviews per month` column, which is already a numeric column."
   ]
  },
  {
   "cell_type": "code",
   "execution_count": 61,
   "metadata": {},
   "outputs": [
    {
     "data": {
      "text/html": [
       "<div>\n",
       "<style scoped>\n",
       "    .dataframe tbody tr th:only-of-type {\n",
       "        vertical-align: middle;\n",
       "    }\n",
       "\n",
       "    .dataframe tbody tr th {\n",
       "        vertical-align: top;\n",
       "    }\n",
       "\n",
       "    .dataframe thead th {\n",
       "        text-align: right;\n",
       "    }\n",
       "</style>\n",
       "<table border=\"1\" class=\"dataframe\">\n",
       "  <thead>\n",
       "    <tr style=\"text-align: right;\">\n",
       "      <th></th>\n",
       "      <th>price</th>\n",
       "      <th>service fee</th>\n",
       "    </tr>\n",
       "  </thead>\n",
       "  <tbody>\n",
       "    <tr>\n",
       "      <th>0</th>\n",
       "      <td>966.0</td>\n",
       "      <td>193.0</td>\n",
       "    </tr>\n",
       "    <tr>\n",
       "      <th>1</th>\n",
       "      <td>142.0</td>\n",
       "      <td>28.0</td>\n",
       "    </tr>\n",
       "    <tr>\n",
       "      <th>2</th>\n",
       "      <td>620.0</td>\n",
       "      <td>124.0</td>\n",
       "    </tr>\n",
       "    <tr>\n",
       "      <th>3</th>\n",
       "      <td>368.0</td>\n",
       "      <td>74.0</td>\n",
       "    </tr>\n",
       "    <tr>\n",
       "      <th>4</th>\n",
       "      <td>204.0</td>\n",
       "      <td>41.0</td>\n",
       "    </tr>\n",
       "  </tbody>\n",
       "</table>\n",
       "</div>"
      ],
      "text/plain": [
       "   price  service fee\n",
       "0  966.0        193.0\n",
       "1  142.0         28.0\n",
       "2  620.0        124.0\n",
       "3  368.0         74.0\n",
       "4  204.0         41.0"
      ]
     },
     "execution_count": 61,
     "metadata": {},
     "output_type": "execute_result"
    }
   ],
   "source": [
    "# Clean \"price\" and \"service fee\" columns by removing unwanted characters and converting to float\n",
    "data[\"price\"] = data[\"price\"].str.strip().str.replace(r\"[^0-9.]\", \"\", regex=True).astype(float)\n",
    "\n",
    "data[\"service fee\"] = data[\"service fee\"].str.strip().str.replace(r\"[^0-9.]\", \"\", regex=True).astype(float)\n",
    "\n",
    "# Verify the changes\n",
    "data[[\"price\", \"service fee\"]].head()"
   ]
  },
  {
   "cell_type": "markdown",
   "metadata": {},
   "source": [
    "### Example 1: Min-Max Scaling\n",
    "\n",
    "Let’s scale the `reviews per month` column to a range between 0 and 1 using min-max scaling.\\\n",
    "The scaled values will replace the original column (`inplace=True`).\n"
   ]
  },
  {
   "cell_type": "code",
   "execution_count": 62,
   "metadata": {},
   "outputs": [
    {
     "name": "stderr",
     "output_type": "stream",
     "text": [
      "/Users/sepehrheydarian/Desktop/Courses/524_folder/DataMop_package_group14/src/datamop/column_scaler.py:83: UserWarning: NaN value detected in column '{column}'. They will be unchanged\n",
      "  warnings.warn(\"NaN value detected in column '{column}'. They will be unchanged\", UserWarning)\n"
     ]
    },
    {
     "data": {
      "text/html": [
       "<div>\n",
       "<style scoped>\n",
       "    .dataframe tbody tr th:only-of-type {\n",
       "        vertical-align: middle;\n",
       "    }\n",
       "\n",
       "    .dataframe tbody tr th {\n",
       "        vertical-align: top;\n",
       "    }\n",
       "\n",
       "    .dataframe thead th {\n",
       "        text-align: right;\n",
       "    }\n",
       "</style>\n",
       "<table border=\"1\" class=\"dataframe\">\n",
       "  <thead>\n",
       "    <tr style=\"text-align: right;\">\n",
       "      <th></th>\n",
       "      <th>reviews per month</th>\n",
       "    </tr>\n",
       "  </thead>\n",
       "  <tbody>\n",
       "    <tr>\n",
       "      <th>0</th>\n",
       "      <td>0.002222</td>\n",
       "    </tr>\n",
       "    <tr>\n",
       "      <th>1</th>\n",
       "      <td>0.004112</td>\n",
       "    </tr>\n",
       "    <tr>\n",
       "      <th>2</th>\n",
       "      <td>NaN</td>\n",
       "    </tr>\n",
       "    <tr>\n",
       "      <th>3</th>\n",
       "      <td>0.051450</td>\n",
       "    </tr>\n",
       "    <tr>\n",
       "      <th>4</th>\n",
       "      <td>0.001000</td>\n",
       "    </tr>\n",
       "  </tbody>\n",
       "</table>\n",
       "</div>"
      ],
      "text/plain": [
       "   reviews per month\n",
       "0           0.002222\n",
       "1           0.004112\n",
       "2                NaN\n",
       "3           0.051450\n",
       "4           0.001000"
      ]
     },
     "execution_count": 62,
     "metadata": {},
     "output_type": "execute_result"
    }
   ],
   "source": [
    "# Using min-max scaling to scale \"reviews per month\" to a range between 0 and 1\n",
    "column_scaler(data, column=\"reviews per month\", method=\"minmax\", new_min=0, new_max=1, inplace=True)\n",
    "\n",
    "# Verify the scaled column\n",
    "data[[\"reviews per month\"]].head()"
   ]
  },
  {
   "cell_type": "markdown",
   "metadata": {},
   "source": [
    "### Example 2: Custom Min-Max Scaling with a New Column\n",
    "\n",
    "Now let’s scale the `price` column to a range between 100 and 500. Instead of modifying the original column, we’ll create a new column called `price_scaled` by setting `inplace=False`.\n"
   ]
  },
  {
   "cell_type": "code",
   "execution_count": 63,
   "metadata": {},
   "outputs": [
    {
     "name": "stderr",
     "output_type": "stream",
     "text": [
      "/Users/sepehrheydarian/Desktop/Courses/524_folder/DataMop_package_group14/src/datamop/column_scaler.py:83: UserWarning: NaN value detected in column '{column}'. They will be unchanged\n",
      "  warnings.warn(\"NaN value detected in column '{column}'. They will be unchanged\", UserWarning)\n"
     ]
    },
    {
     "data": {
      "text/html": [
       "<div>\n",
       "<style scoped>\n",
       "    .dataframe tbody tr th:only-of-type {\n",
       "        vertical-align: middle;\n",
       "    }\n",
       "\n",
       "    .dataframe tbody tr th {\n",
       "        vertical-align: top;\n",
       "    }\n",
       "\n",
       "    .dataframe thead th {\n",
       "        text-align: right;\n",
       "    }\n",
       "</style>\n",
       "<table border=\"1\" class=\"dataframe\">\n",
       "  <thead>\n",
       "    <tr style=\"text-align: right;\">\n",
       "      <th></th>\n",
       "      <th>price</th>\n",
       "      <th>price_scaled</th>\n",
       "    </tr>\n",
       "  </thead>\n",
       "  <tbody>\n",
       "    <tr>\n",
       "      <th>0</th>\n",
       "      <td>966.0</td>\n",
       "      <td>418.608696</td>\n",
       "    </tr>\n",
       "    <tr>\n",
       "      <th>1</th>\n",
       "      <td>142.0</td>\n",
       "      <td>132.000000</td>\n",
       "    </tr>\n",
       "    <tr>\n",
       "      <th>2</th>\n",
       "      <td>620.0</td>\n",
       "      <td>298.260870</td>\n",
       "    </tr>\n",
       "    <tr>\n",
       "      <th>3</th>\n",
       "      <td>368.0</td>\n",
       "      <td>210.608696</td>\n",
       "    </tr>\n",
       "    <tr>\n",
       "      <th>4</th>\n",
       "      <td>204.0</td>\n",
       "      <td>153.565217</td>\n",
       "    </tr>\n",
       "  </tbody>\n",
       "</table>\n",
       "</div>"
      ],
      "text/plain": [
       "   price  price_scaled\n",
       "0  966.0    418.608696\n",
       "1  142.0    132.000000\n",
       "2  620.0    298.260870\n",
       "3  368.0    210.608696\n",
       "4  204.0    153.565217"
      ]
     },
     "execution_count": 63,
     "metadata": {},
     "output_type": "execute_result"
    }
   ],
   "source": [
    "# Using min-max scaling to scale \"price\" to a range between 100 and 500\n",
    "column_scaler(data, column=\"price\", method=\"minmax\", new_min=100, new_max=500, inplace=False)\n",
    "\n",
    "# Verify the new scaled column\n",
    "data[[\"price\", \"price_scaled\"]].head()"
   ]
  },
  {
   "cell_type": "markdown",
   "metadata": {},
   "source": [
    "### Example 3: Standard Scaling\n",
    "\n",
    "Let's scale the `service fee` column using the standard scaling method, \n",
    "which transforms the values to have a mean of 0 and standard deviation of 1.\n",
    "The scaled values will replace the original column (`incplace=True`)."
   ]
  },
  {
   "cell_type": "code",
   "execution_count": 64,
   "metadata": {},
   "outputs": [
    {
     "name": "stderr",
     "output_type": "stream",
     "text": [
      "/Users/sepehrheydarian/Desktop/Courses/524_folder/DataMop_package_group14/src/datamop/column_scaler.py:83: UserWarning: NaN value detected in column '{column}'. They will be unchanged\n",
      "  warnings.warn(\"NaN value detected in column '{column}'. They will be unchanged\", UserWarning)\n"
     ]
    },
    {
     "data": {
      "text/html": [
       "<div>\n",
       "<style scoped>\n",
       "    .dataframe tbody tr th:only-of-type {\n",
       "        vertical-align: middle;\n",
       "    }\n",
       "\n",
       "    .dataframe tbody tr th {\n",
       "        vertical-align: top;\n",
       "    }\n",
       "\n",
       "    .dataframe thead th {\n",
       "        text-align: right;\n",
       "    }\n",
       "</style>\n",
       "<table border=\"1\" class=\"dataframe\">\n",
       "  <thead>\n",
       "    <tr style=\"text-align: right;\">\n",
       "      <th></th>\n",
       "      <th>service fee</th>\n",
       "    </tr>\n",
       "  </thead>\n",
       "  <tbody>\n",
       "    <tr>\n",
       "      <th>0</th>\n",
       "      <td>1.024837</td>\n",
       "    </tr>\n",
       "    <tr>\n",
       "      <th>1</th>\n",
       "      <td>-1.462885</td>\n",
       "    </tr>\n",
       "    <tr>\n",
       "      <th>2</th>\n",
       "      <td>-0.015483</td>\n",
       "    </tr>\n",
       "    <tr>\n",
       "      <th>3</th>\n",
       "      <td>-0.769338</td>\n",
       "    </tr>\n",
       "    <tr>\n",
       "      <th>4</th>\n",
       "      <td>-1.266883</td>\n",
       "    </tr>\n",
       "  </tbody>\n",
       "</table>\n",
       "</div>"
      ],
      "text/plain": [
       "   service fee\n",
       "0     1.024837\n",
       "1    -1.462885\n",
       "2    -0.015483\n",
       "3    -0.769338\n",
       "4    -1.266883"
      ]
     },
     "execution_count": 64,
     "metadata": {},
     "output_type": "execute_result"
    }
   ],
   "source": [
    "# Using standard scaling method on \"service fee\" column\n",
    "column_scaler(data, column=\"service fee\", method=\"standard\", inplace=True)\n",
    "\n",
    "# Verify the scaled column\n",
    "data[[\"service fee\"]].head()"
   ]
  },
  {
   "cell_type": "markdown",
   "metadata": {},
   "source": [
    "### Edge Case 1: Scaling Column with Single Unique Value\n",
    "\n",
    "If a column contains only a single unique value, `column_scaler()` automatically assigns the midpoint of the range for min-max scaling and issues a warning message."
   ]
  },
  {
   "cell_type": "code",
   "execution_count": 65,
   "metadata": {},
   "outputs": [
    {
     "name": "stderr",
     "output_type": "stream",
     "text": [
      "/Users/sepehrheydarian/Desktop/Courses/524_folder/DataMop_package_group14/src/datamop/column_scaler.py:86: UserWarning: Single-value column detected. All values will be scaled to the midpoint of the `new_min` and `new_max`.\n",
      "  warnings.warn(\"Single-value column detected. All values will be scaled to the midpoint of the `new_min` and `new_max`.\", UserWarning)\n"
     ]
    },
    {
     "data": {
      "text/html": [
       "<div>\n",
       "<style scoped>\n",
       "    .dataframe tbody tr th:only-of-type {\n",
       "        vertical-align: middle;\n",
       "    }\n",
       "\n",
       "    .dataframe tbody tr th {\n",
       "        vertical-align: top;\n",
       "    }\n",
       "\n",
       "    .dataframe thead th {\n",
       "        text-align: right;\n",
       "    }\n",
       "</style>\n",
       "<table border=\"1\" class=\"dataframe\">\n",
       "  <thead>\n",
       "    <tr style=\"text-align: right;\">\n",
       "      <th></th>\n",
       "      <th>price</th>\n",
       "    </tr>\n",
       "  </thead>\n",
       "  <tbody>\n",
       "    <tr>\n",
       "      <th>0</th>\n",
       "      <td>0.5</td>\n",
       "    </tr>\n",
       "    <tr>\n",
       "      <th>1</th>\n",
       "      <td>0.5</td>\n",
       "    </tr>\n",
       "    <tr>\n",
       "      <th>2</th>\n",
       "      <td>0.5</td>\n",
       "    </tr>\n",
       "  </tbody>\n",
       "</table>\n",
       "</div>"
      ],
      "text/plain": [
       "   price\n",
       "0    0.5\n",
       "1    0.5\n",
       "2    0.5"
      ]
     },
     "execution_count": 65,
     "metadata": {},
     "output_type": "execute_result"
    }
   ],
   "source": [
    "# Create DataFrame with a single-value column\n",
    "single_value_df = pd.DataFrame({\"price\": [100, 100, 100]})\n",
    "\n",
    "# Scale the column using min-max scaling\n",
    "scaled_df = column_scaler(single_value_df, column=\"price\", method=\"minmax\", new_min=0, new_max=1)\n",
    "\n",
    "# Verify the result\n",
    "scaled_df"
   ]
  },
  {
   "cell_type": "markdown",
   "metadata": {},
   "source": [
    "### Edge Case 2: Handling Missing Values (NaN)\n",
    "\n",
    "If a column contains missing values (`NaN`), `column_scaler()` leaves them unchanged and issue a warning. This ensures no data is lost or imputed incorrectly."
   ]
  },
  {
   "cell_type": "code",
   "execution_count": 66,
   "metadata": {},
   "outputs": [
    {
     "name": "stderr",
     "output_type": "stream",
     "text": [
      "/Users/sepehrheydarian/Desktop/Courses/524_folder/DataMop_package_group14/src/datamop/column_scaler.py:83: UserWarning: NaN value detected in column '{column}'. They will be unchanged\n",
      "  warnings.warn(\"NaN value detected in column '{column}'. They will be unchanged\", UserWarning)\n"
     ]
    },
    {
     "data": {
      "text/html": [
       "<div>\n",
       "<style scoped>\n",
       "    .dataframe tbody tr th:only-of-type {\n",
       "        vertical-align: middle;\n",
       "    }\n",
       "\n",
       "    .dataframe tbody tr th {\n",
       "        vertical-align: top;\n",
       "    }\n",
       "\n",
       "    .dataframe thead th {\n",
       "        text-align: right;\n",
       "    }\n",
       "</style>\n",
       "<table border=\"1\" class=\"dataframe\">\n",
       "  <thead>\n",
       "    <tr style=\"text-align: right;\">\n",
       "      <th></th>\n",
       "      <th>reviews per month</th>\n",
       "    </tr>\n",
       "  </thead>\n",
       "  <tbody>\n",
       "    <tr>\n",
       "      <th>0</th>\n",
       "      <td>0.0</td>\n",
       "    </tr>\n",
       "    <tr>\n",
       "      <th>1</th>\n",
       "      <td>NaN</td>\n",
       "    </tr>\n",
       "    <tr>\n",
       "      <th>2</th>\n",
       "      <td>1.0</td>\n",
       "    </tr>\n",
       "  </tbody>\n",
       "</table>\n",
       "</div>"
      ],
      "text/plain": [
       "   reviews per month\n",
       "0                0.0\n",
       "1                NaN\n",
       "2                1.0"
      ]
     },
     "execution_count": 66,
     "metadata": {},
     "output_type": "execute_result"
    }
   ],
   "source": [
    "# Create a DataFrame with NaN values\n",
    "nan_df = pd.DataFrame({\"reviews per month\": [10, np.nan, 20]})\n",
    "\n",
    "# Scaled the column using min-max scaling\n",
    "scaled_nan_df = column_scaler(nan_df, column=\"reviews per month\", method=\"minmax\", new_min=0, new_max=1)\n",
    "\n",
    "# Verify the result\n",
    "scaled_nan_df"
   ]
  },
  {
   "cell_type": "markdown",
   "metadata": {},
   "source": [
    "### Error Case 1: Using Non-Existent Column\n",
    "\n",
    "If the specified column does not exist in the DataFrame, `column_scaler()` raises a `KeyError`"
   ]
  },
  {
   "cell_type": "code",
   "execution_count": 67,
   "metadata": {},
   "outputs": [
    {
     "name": "stdout",
     "output_type": "stream",
     "text": [
      "'Column not found in the DataFrame.'\n"
     ]
    }
   ],
   "source": [
    "# Pass non existent column in the 'column' argument\n",
    "try:\n",
    "    column_scaler(data, column=\"Non_existent\", method=\"minmax\")\n",
    "except KeyError as e:\n",
    "    print(e)"
   ]
  },
  {
   "cell_type": "markdown",
   "metadata": {},
   "source": [
    "### Error Case 2: Using Non-Numeric Columns\n",
    "\n",
    "If you attempt to scale a non-numeric column, such column of strings, `column_scaler()` raises a `ValueError`."
   ]
  },
  {
   "cell_type": "code",
   "execution_count": 68,
   "metadata": {},
   "outputs": [
    {
     "name": "stdout",
     "output_type": "stream",
     "text": [
      "Column must have numeric values.\n"
     ]
    }
   ],
   "source": [
    "# Pass column of objects (country column) to column scaler\n",
    "try:\n",
    "    column_scaler(data, column=\"country\", method=\"minmax\")\n",
    "except ValueError as e:\n",
    "    print(e)"
   ]
  },
  {
   "cell_type": "markdown",
   "metadata": {},
   "source": [
    "### Error Case 3: Using Invalid Method\n",
    "\n",
    "If you specify a method other than `minmax` or `standard`, `column_scaler()` raises `ValueError`."
   ]
  },
  {
   "cell_type": "code",
   "execution_count": 69,
   "metadata": {},
   "outputs": [
    {
     "name": "stdout",
     "output_type": "stream",
     "text": [
      "Invalid method. Method should be `minmax` or `standard`.\n"
     ]
    }
   ],
   "source": [
    "# Pass invalid method to column scaler\n",
    "try:\n",
    "    column_scaler(data, column=\"price\", method=\"invalid_method\")\n",
    "except ValueError as e:\n",
    "    print(e)"
   ]
  },
  {
   "cell_type": "markdown",
   "metadata": {},
   "source": [
    "### Error Case 4: Using Invalid `new_min` and `new_max` Values\n",
    "\n",
    "For min-max scaling, if the `new_min` is greater than `new_max`, `column_scaler()` raises a `ValueError`."
   ]
  },
  {
   "cell_type": "code",
   "execution_count": 71,
   "metadata": {},
   "outputs": [
    {
     "name": "stdout",
     "output_type": "stream",
     "text": [
      "`new_min` cannot be greater than `new_max`.\n"
     ]
    }
   ],
   "source": [
    "# Pass new_min greater than new_max\n",
    "try:\n",
    "    column_scaler(data, column=\"price\", method=\"minmax\", new_min=10, new_max=5)\n",
    "except ValueError as e:\n",
    "    print(e)"
   ]
  }
 ],
 "metadata": {
  "kernelspec": {
   "display_name": "pycounts",
   "language": "python",
   "name": "python3"
  },
  "language_info": {
   "codemirror_mode": {
    "name": "ipython",
    "version": 3
   },
   "file_extension": ".py",
   "mimetype": "text/x-python",
   "name": "python",
   "nbconvert_exporter": "python",
   "pygments_lexer": "ipython3",
   "version": "3.11.11"
  }
 },
 "nbformat": 4,
 "nbformat_minor": 4
}
